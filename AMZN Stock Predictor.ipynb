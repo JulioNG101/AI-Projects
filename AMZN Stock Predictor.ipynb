{
  "nbformat": 4,
  "nbformat_minor": 0,
  "metadata": {
    "colab": {
      "name": "Copy of Python Project",
      "provenance": [],
      "collapsed_sections": []
    },
    "kernelspec": {
      "name": "python3",
      "display_name": "Python 3"
    },
    "language_info": {
      "name": "python"
    }
  },
  "cells": [
    {
      "cell_type": "code",
      "metadata": {
        "id": "xA1km-upSqmS"
      },
      "source": [
        "# stock predictor by using macvhine learning models. "
      ],
      "execution_count": null,
      "outputs": []
    },
    {
      "cell_type": "code",
      "metadata": {
        "id": "JX7NTXeJTCFp"
      },
      "source": [
        "import quandl\n",
        "import numpy as np\n",
        "from sklearn.linear_model import LinearRegression\n",
        "from sklearn.svm import SVR\n",
        "from sklearn.model_selection import train_test_split"
      ],
      "execution_count": null,
      "outputs": []
    },
    {
      "cell_type": "code",
      "metadata": {
        "id": "BGcOqGPfT4-T",
        "colab": {
          "base_uri": "https://localhost:8080/"
        },
        "outputId": "c3a12ebf-22e9-4f37-e139-ff783b48a805"
      },
      "source": [
        "# Get the stock data\n",
        "df = quandl.get(\"WIKI/AMZN\")\n",
        "# Print the data\n",
        "print(df.head())"
      ],
      "execution_count": null,
      "outputs": [
        {
          "output_type": "stream",
          "text": [
            "             Open   High    Low  ...  Adj. Low  Adj. Close  Adj. Volume\n",
            "Date                             ...                                   \n",
            "1997-05-16  22.38  23.75  20.50  ...  1.708333    1.729167   14700000.0\n",
            "1997-05-19  20.50  21.25  19.50  ...  1.625000    1.708333    6106800.0\n",
            "1997-05-20  20.75  21.00  19.63  ...  1.635833    1.635833    5467200.0\n",
            "1997-05-21  19.25  19.75  16.50  ...  1.375000    1.427500   18853200.0\n",
            "1997-05-22  17.25  17.38  15.75  ...  1.312500    1.395833   11776800.0\n",
            "\n",
            "[5 rows x 12 columns]\n"
          ],
          "name": "stdout"
        }
      ]
    },
    {
      "cell_type": "code",
      "metadata": {
        "id": "h_5vnmrPXTKf",
        "colab": {
          "base_uri": "https://localhost:8080/"
        },
        "outputId": "8c2ab0c6-6770-42ce-fad0-1b55cbed1c52"
      },
      "source": [
        "# Get the adjusted close column \n",
        "df = df[['Adj. Close']]\n",
        "#take a look at new data\n",
        "print(df.head())"
      ],
      "execution_count": null,
      "outputs": [
        {
          "output_type": "stream",
          "text": [
            "            Adj. Close\n",
            "Date                  \n",
            "1997-05-16    1.729167\n",
            "1997-05-19    1.708333\n",
            "1997-05-20    1.635833\n",
            "1997-05-21    1.427500\n",
            "1997-05-22    1.395833\n"
          ],
          "name": "stdout"
        }
      ]
    },
    {
      "cell_type": "code",
      "metadata": {
        "id": "uYJqQBoRXjc7",
        "colab": {
          "base_uri": "https://localhost:8080/"
        },
        "outputId": "9e22894c-309c-4fb8-dfe5-4fafeebc4d57"
      },
      "source": [
        "# Variable for predicting 'n' days out into the future\n",
        "forecast_out = 30\n",
        "# create another column. The target or dependent variable, shifted in units up\n",
        "df['Prediction'] = df[['Adj. Close']].shift(-forecast_out)\n",
        "# print new data set\n",
        "print(df.tail())\n"
      ],
      "execution_count": null,
      "outputs": [
        {
          "output_type": "stream",
          "text": [
            "            Adj. Close  Prediction\n",
            "Date                              \n",
            "2018-03-21     1581.86         NaN\n",
            "2018-03-22     1544.10         NaN\n",
            "2018-03-23     1495.56         NaN\n",
            "2018-03-26     1555.86         NaN\n",
            "2018-03-27     1497.05         NaN\n"
          ],
          "name": "stdout"
        }
      ]
    },
    {
      "cell_type": "code",
      "metadata": {
        "id": "VHFXxFxIZlEo",
        "colab": {
          "base_uri": "https://localhost:8080/"
        },
        "outputId": "69471f22-b550-4538-cca8-d25f024f98e2"
      },
      "source": [
        "# create the independent data set\n",
        "# conver the data set to a numpy array\n",
        "X = np.array(df.drop(['Prediction'],1))\n",
        "#remove the last n rows\n",
        "X = X[:-forecast_out]\n",
        "print(X)"
      ],
      "execution_count": null,
      "outputs": [
        {
          "output_type": "stream",
          "text": [
            "[[   1.72916667]\n",
            " [   1.70833333]\n",
            " [   1.63583333]\n",
            " ...\n",
            " [1350.47      ]\n",
            " [1338.99      ]\n",
            " [1386.23      ]]\n"
          ],
          "name": "stdout"
        }
      ]
    },
    {
      "cell_type": "code",
      "metadata": {
        "id": "DQNlGA_hafFU",
        "colab": {
          "base_uri": "https://localhost:8080/"
        },
        "outputId": "d3058584-bcf5-4d64-d16f-4f8d7609428e"
      },
      "source": [
        "### Create the dependent data set 'y' ###\n",
        "# conver the data frame to a numpy array (all of the values including the NaN)\n",
        "y = np.array(df['Prediction'])\n",
        "# get all of the y values, except the last 'n' rows. \n",
        "y = y[:-forecast_out]\n",
        "print(y)\n"
      ],
      "execution_count": null,
      "outputs": [
        {
          "output_type": "stream",
          "text": [
            "[1.54166667e+00 1.51583333e+00 1.58833333e+00 ... 1.49556000e+03\n",
            " 1.55586000e+03 1.49705000e+03]\n"
          ],
          "name": "stdout"
        }
      ]
    },
    {
      "cell_type": "code",
      "metadata": {
        "id": "vQXEKqawbrKj"
      },
      "source": [
        "# split the date into 80% training and 20% testing\n",
        "x_train, x_test, y_train, y_test = train_test_split(X, y, test_size=0.2)"
      ],
      "execution_count": null,
      "outputs": []
    },
    {
      "cell_type": "code",
      "metadata": {
        "id": "GYUZiw0-cfH5",
        "colab": {
          "base_uri": "https://localhost:8080/"
        },
        "outputId": "bed67aa8-dcc9-4750-8786-4ba6d3d6ae57"
      },
      "source": [
        "# create and train Support Vector Machine (Regressor)\n",
        "svr_rbf = SVR(kernel='rbf',C=1e3, gamma=0.1)\n",
        "svr_rbf.fit(x_train, y_train)"
      ],
      "execution_count": null,
      "outputs": [
        {
          "output_type": "execute_result",
          "data": {
            "text/plain": [
              "SVR(C=1000.0, cache_size=200, coef0=0.0, degree=3, epsilon=0.1, gamma=0.1,\n",
              "    kernel='rbf', max_iter=-1, shrinking=True, tol=0.001, verbose=False)"
            ]
          },
          "metadata": {
            "tags": []
          },
          "execution_count": 65
        }
      ]
    },
    {
      "cell_type": "code",
      "metadata": {
        "id": "YcyJAqhtc3kr",
        "colab": {
          "base_uri": "https://localhost:8080/"
        },
        "outputId": "4664060b-c97b-42ba-c620-cac1f874ed1f"
      },
      "source": [
        "# Testing Model: Score returnsdds the coefficient of the determination R^2 of the prediction.\n",
        "# The best possible score is 1.0\n",
        "svm_confidence = svr_rbf.score(x_test, y_test)\n",
        "print(\"svm_confidence: \", svm_confidence)"
      ],
      "execution_count": null,
      "outputs": [
        {
          "output_type": "stream",
          "text": [
            "svm_confidence:  0.9425753442668671\n"
          ],
          "name": "stdout"
        }
      ]
    },
    {
      "cell_type": "code",
      "metadata": {
        "colab": {
          "base_uri": "https://localhost:8080/"
        },
        "id": "kZIaJHmOenHf",
        "outputId": "e4fbd5e7-8ff3-4bca-ff99-1005d87196d7"
      },
      "source": [
        "# create and train the linear regression model\n",
        "lr = LinearRegression()\n",
        "# Train the model\n",
        "lr.fit(x_train, y_train)"
      ],
      "execution_count": null,
      "outputs": [
        {
          "output_type": "execute_result",
          "data": {
            "text/plain": [
              "LinearRegression(copy_X=True, fit_intercept=True, n_jobs=None, normalize=False)"
            ]
          },
          "metadata": {
            "tags": []
          },
          "execution_count": 67
        }
      ]
    },
    {
      "cell_type": "code",
      "metadata": {
        "colab": {
          "base_uri": "https://localhost:8080/"
        },
        "id": "NIxc8cp0fCda",
        "outputId": "26fd27ca-9e02-42cc-b430-b8cd22a335c2"
      },
      "source": [
        "# test the Linear Rgression Model\n",
        "# best possibel score is 1.0\n",
        "lr_confidence = lr.score(x_test, y_test)\n",
        "print(\"lr confidence: \", lr_confidence)\n"
      ],
      "execution_count": null,
      "outputs": [
        {
          "output_type": "stream",
          "text": [
            "lr confidence:  0.990774284269124\n"
          ],
          "name": "stdout"
        }
      ]
    },
    {
      "cell_type": "code",
      "metadata": {
        "colab": {
          "base_uri": "https://localhost:8080/"
        },
        "id": "tR5yLx4Ffjqq",
        "outputId": "a282293b-686e-4be7-b69c-1845fac76780"
      },
      "source": [
        "# Set variable x_forecast to the last 30 rows of the original data set from Adj. Close column\n",
        "x_forecast = np.array(df.drop(['Prediction'],1))[-forecast_out:]\n",
        "print(x_forecast)\n"
      ],
      "execution_count": null,
      "outputs": [
        {
          "output_type": "stream",
          "text": [
            "[[1414.51]\n",
            " [1451.05]\n",
            " [1461.76]\n",
            " [1448.69]\n",
            " [1468.35]\n",
            " [1482.92]\n",
            " [1484.76]\n",
            " [1500.  ]\n",
            " [1521.95]\n",
            " [1511.98]\n",
            " [1512.45]\n",
            " [1493.45]\n",
            " [1500.25]\n",
            " [1523.61]\n",
            " [1537.64]\n",
            " [1545.  ]\n",
            " [1551.86]\n",
            " [1578.89]\n",
            " [1598.39]\n",
            " [1588.18]\n",
            " [1591.  ]\n",
            " [1582.32]\n",
            " [1571.68]\n",
            " [1544.93]\n",
            " [1586.51]\n",
            " [1581.86]\n",
            " [1544.1 ]\n",
            " [1495.56]\n",
            " [1555.86]\n",
            " [1497.05]]\n"
          ],
          "name": "stdout"
        }
      ]
    },
    {
      "cell_type": "code",
      "metadata": {
        "colab": {
          "base_uri": "https://localhost:8080/"
        },
        "id": "uc13e60HgOhL",
        "outputId": "0682ed3c-428e-4644-e950-dcc55970d02c"
      },
      "source": [
        "# going to print linear regression model predictions for the next 'n' days\n",
        "lr_prediction = lr.predict(x_forecast)\n",
        "print(lr_prediction)\n",
        "\n",
        "# going to print support vector regressor model predictions for the next 'n' days\n",
        "svm_prediction = svr_rbf.predict(x_forecast)\n",
        "print(svm_prediction)"
      ],
      "execution_count": null,
      "outputs": [
        {
          "output_type": "stream",
          "text": [
            "[1498.09626614 1536.8824529  1548.25081799 1534.37737899 1555.24591845\n",
            " 1570.71156544 1572.66467391 1588.84150714 1612.14081747 1601.55794166\n",
            " 1602.0568335  1581.88886556 1589.10687514 1613.90286098 1628.7953131\n",
            " 1636.60774699 1643.88944489 1672.58103296 1693.2797369  1682.44210781\n",
            " 1685.43545884 1676.22188191 1664.92781987 1636.53344395 1680.66944958\n",
            " 1675.73360479 1635.6524222  1584.12857148 1648.13533288 1585.71016475]\n",
            "[1053.35465088 1550.59809251  669.54988002 1076.94598325  669.51667961\n",
            "  669.51667961  669.51667961  669.51667961  669.51667961  669.51667961\n",
            "  669.51667961  669.51667961  669.51667961  669.51667961  669.51667961\n",
            "  669.51667961  669.51667961  669.51667961  669.51667961  669.51667961\n",
            "  669.51667961  669.51667961  669.51667961  669.51667961  669.51667961\n",
            "  669.51667961  669.51667961  669.51667961  669.51667961  669.51667961]\n"
          ],
          "name": "stdout"
        }
      ]
    }
  ]
}